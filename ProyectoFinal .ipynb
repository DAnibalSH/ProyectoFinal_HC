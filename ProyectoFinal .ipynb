{
 "cells": [
  {
   "cell_type": "markdown",
   "metadata": {},
   "source": [
    "## Metodología "
   ]
  },
  {
   "cell_type": "markdown",
   "metadata": {},
   "source": [
    "Formulas para determinar si es un clima húmedo o seco."
   ]
  },
  {
   "cell_type": "markdown",
   "metadata": {},
   "source": [
    "Esta formula es para un clima con regimen de lluvia de tipo s, con lluvias en invierno."
   ]
  },
  {
   "cell_type": "code",
   "execution_count": 5,
   "metadata": {},
   "outputs": [],
   "source": [
    "def ClimaHS_s():\n",
    "    \n",
    "    r= int(input('Volumen total de precipitación anual en cm: '))\n",
    "    t= int(input('Temperatura media anual en ºC:'))\n",
    "    if r<= 2*t: \n",
    "        print ('Es un clima Seco (B)')\n",
    "    elif r> 2*t:\n",
    "        print ('Es un clima Humedo')"
   ]
  },
  {
   "cell_type": "code",
   "execution_count": 8,
   "metadata": {
    "scrolled": true
   },
   "outputs": [
    {
     "name": "stdout",
     "output_type": "stream",
     "text": [
      "Volumen total de precipitación anual en cm: 62\n",
      "Temperatura media anual en ºC:16\n",
      "Es un clima Humedo\n"
     ]
    }
   ],
   "source": [
    "ClimaHS_s()"
   ]
  },
  {
   "cell_type": "markdown",
   "metadata": {},
   "source": [
    "Esta formula es para un clima con regimen de lluvia de tipo w, con lluvias en verano."
   ]
  },
  {
   "cell_type": "code",
   "execution_count": 9,
   "metadata": {},
   "outputs": [],
   "source": [
    "def ClimaHS_w():\n",
    "    \n",
    "    r= int(input('Volumen total de precipitación anual en cm: '))\n",
    "    t= int(input('Temperatura media anual en ºC:'))\n",
    "    if r<= 2*(t+14): \n",
    "        print ('Es un clima Seco (B)')\n",
    "    elif r> 2*(t+14):\n",
    "        print ('Es un clima Humedo')"
   ]
  },
  {
   "cell_type": "code",
   "execution_count": 10,
   "metadata": {
    "scrolled": true
   },
   "outputs": [
    {
     "name": "stdout",
     "output_type": "stream",
     "text": [
      "Volumen total de precipitación anual en cm: 41\n",
      "Temperatura media anual en ºC:8\n",
      "Es un clima Seco (B)\n"
     ]
    }
   ],
   "source": [
    "ClimaHS_w()\n"
   ]
  },
  {
   "cell_type": "markdown",
   "metadata": {},
   "source": [
    "Esta formula es para un clima con regimen de lluvia de tipo x', con lluvias todo el año."
   ]
  },
  {
   "cell_type": "code",
   "execution_count": 11,
   "metadata": {},
   "outputs": [],
   "source": [
    "def ClimaHS_x():\n",
    "    \n",
    "    r= int(input('Volumen total de precipitación anual en cm: '))\n",
    "    t= int(input('Temperatura media anual en ºC:'))\n",
    "    if r<= 2*(t+7): \n",
    "        print ('Es un clima Seco (B)')\n",
    "    elif r> 2*(t+7):\n",
    "        print ('Es un clima Humedo')"
   ]
  },
  {
   "cell_type": "code",
   "execution_count": 12,
   "metadata": {},
   "outputs": [
    {
     "name": "stdout",
     "output_type": "stream",
     "text": [
      "Volumen total de precipitación anual en cm: 14\n",
      "Temperatura media anual en ºC:-12\n",
      "Es un clima Humedo\n"
     ]
    }
   ],
   "source": [
    "ClimaHS_x()"
   ]
  },
  {
   "cell_type": "markdown",
   "metadata": {},
   "source": [
    "Formulas para determinar a que grupo climatico pertenece."
   ]
  },
  {
   "cell_type": "code",
   "execution_count": 1,
   "metadata": {},
   "outputs": [],
   "source": [
    "def Climas_H():\n",
    "\n",
    "    T_max = int(input(\"Mes mas calido del año(en °C):\"))\n",
    "    T_min = int(input(\"Mes mas frio del año(en °C):\"))\n",
    "    \n",
    "    if T_max >= 18 and T_min >= 18:\n",
    "        print(\"El grupo de clima es: A, clima tropical\")\n",
    "              \n",
    "    elif T_max >= 18 and 18 >= T_min >= 0:\n",
    "        print(\"El grupo de clima es: C, clima templado\")\n",
    "              \n",
    "    elif 18 >= T_max >= 10 and T_min <= 0:\n",
    "        print(\"El grupo de clima es: D, clima Boreal\")\n",
    "\n",
    "    elif T_max <= 10 and T_min <= 0:\n",
    "        print(\"El grupo de clima es: E, clima Frio o Polar\")\n",
    "        \n",
    "    else:\n",
    "        print(\"Los datos proporcionados son incorrectos\")"
   ]
  },
  {
   "cell_type": "code",
   "execution_count": 2,
   "metadata": {},
   "outputs": [
    {
     "name": "stdout",
     "output_type": "stream",
     "text": [
      "Mes mas calido del año(en °C):29\n",
      "Mes mas frio del año(en °C):25\n",
      "El grupo de clima es: A, clima tropical\n"
     ]
    }
   ],
   "source": [
    "Climas_H()"
   ]
  },
  {
   "cell_type": "code",
   "execution_count": 4,
   "metadata": {},
   "outputs": [
    {
     "name": "stdout",
     "output_type": "stream",
     "text": [
      "Mes mas calido del año(en °C):4\n",
      "Mes mas frio del año(en °C):-28\n",
      "El grupo de clima es: E, clima Frio o Polar\n"
     ]
    }
   ],
   "source": [
    "Climas_H()"
   ]
  },
  {
   "cell_type": "markdown",
   "metadata": {},
   "source": [
    "Formulas para determinar el regimen de lluvias de la zona."
   ]
  },
  {
   "cell_type": "code",
   "execution_count": 2,
   "metadata": {},
   "outputs": [],
   "source": [
    "def R_Lluvia():\n",
    "    \n",
    "    P_MF= int(input('Precipitación del mes más humedo de la mitad fria:'))\n",
    "    P_MC= int(input('Precipitación del mes más humedo de la mitad calida:'))\n",
    "    P_ms= int(input('Precipitación del mes más seco del año:'))\n",
    "    \n",
    "    if P_MF> 3*P_ms and P_MF>P_MC:\n",
    "        print(\"Hay un regimen de llluvias de tipo s, con más lluvias en invierno\")\n",
    "    \n",
    "    elif P_MC> 10*P_ms and P_MC>P_MF:\n",
    "        print(\"Hay un regimen de llluvias de tipo w, con más lluvias en verano\")\n",
    "        \n",
    "    elif P_MC< 10*P_ms and P_MF< 3*P_ms:\n",
    "        print(\"Hay un regimen de llluvias de tipo x', con lluvias durante todo el año\")"
   ]
  },
  {
   "cell_type": "code",
   "execution_count": 16,
   "metadata": {},
   "outputs": [
    {
     "name": "stdout",
     "output_type": "stream",
     "text": [
      "Precipitación del mes más humedo de la mitad fria:404\n",
      "Precipitación del mes más humedo de la mitad calida:104\n",
      "Precipitación del mes más seco del año:2\n",
      "Hay un regimen de llluvias de tipo s, con más lluvias en invierno\n"
     ]
    }
   ],
   "source": [
    "R_Lluvia()"
   ]
  },
  {
   "cell_type": "code",
   "execution_count": 17,
   "metadata": {},
   "outputs": [
    {
     "name": "stdout",
     "output_type": "stream",
     "text": [
      "Precipitación del mes más humedo de la mitad fria:13\n",
      "Precipitación del mes más humedo de la mitad calida:122\n",
      "Precipitación del mes más seco del año:0\n",
      "Hay un regimen de llluvias de tipo w, con más lluvias en verano\n"
     ]
    }
   ],
   "source": [
    "R_Lluvia()"
   ]
  },
  {
   "cell_type": "code",
   "execution_count": 19,
   "metadata": {
    "scrolled": true
   },
   "outputs": [
    {
     "name": "stdout",
     "output_type": "stream",
     "text": [
      "Precipitación del mes más humedo de la mitad fria:91\n",
      "Precipitación del mes más humedo de la mitad calida:66\n",
      "Precipitación del mes más seco del año:53\n",
      "Hay un regimen de llluvias de tipo x', con lluvias durante todo el año\n"
     ]
    }
   ],
   "source": [
    "R_Lluvia()"
   ]
  },
  {
   "cell_type": "code",
   "execution_count": 3,
   "metadata": {},
   "outputs": [
    {
     "name": "stdout",
     "output_type": "stream",
     "text": [
      "Precipitación del mes más humedo de la mitad fria:508\n",
      "Precipitación del mes más humedo de la mitad calida:572\n",
      "Precipitación del mes más seco del año:114\n"
     ]
    }
   ],
   "source": [
    "R_Lluvia()"
   ]
  },
  {
   "cell_type": "code",
   "execution_count": null,
   "metadata": {},
   "outputs": [],
   "source": []
  }
 ],
 "metadata": {
  "kernelspec": {
   "display_name": "Python 3",
   "language": "python",
   "name": "python3"
  },
  "language_info": {
   "codemirror_mode": {
    "name": "ipython",
    "version": 3
   },
   "file_extension": ".py",
   "mimetype": "text/x-python",
   "name": "python",
   "nbconvert_exporter": "python",
   "pygments_lexer": "ipython3",
   "version": "3.8.3"
  }
 },
 "nbformat": 4,
 "nbformat_minor": 4
}
