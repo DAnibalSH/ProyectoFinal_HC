{
 "cells": [
  {
   "cell_type": "markdown",
   "metadata": {},
   "source": [
    "# Metodología "
   ]
  },
  {
   "cell_type": "markdown",
   "metadata": {},
   "source": [
    "Las siguientes funciones son el resultado de nuestro trabajo para el desarrollo de un sistema en Phyton para la clasifiación de zonas climaticas a partir de las modificcaciones realizadas al sistema de Köppen por parte de Enriqueta García. "
   ]
  },
  {
   "cell_type": "markdown",
   "metadata": {},
   "source": [
    "## Funciones para determinar el grupo climático y factores principales del clima"
   ]
  },
  {
   "cell_type": "markdown",
   "metadata": {},
   "source": [
    "### Función para determinar el regimen de lluvias de la zona."
   ]
  },
  {
   "cell_type": "code",
   "execution_count": 33,
   "metadata": {},
   "outputs": [],
   "source": [
    "def R_Lluvia():\n",
    "    \n",
    "    P_MF= float(input('Precipitación del mes más humedo de la mitad fria:'))\n",
    "    P_MC= float(input('Precipitación del mes más humedo de la mitad calida:'))\n",
    "    P_ms= float(input('Precipitación del mes más seco del año:'))\n",
    "    \n",
    "    if P_MF> 3*P_ms and P_MF>P_MC:\n",
    "        print(\"Hay un regimen de lluvias de tipo s, con más lluvias en invierno\")\n",
    "    \n",
    "    elif P_MC> 10*P_ms and P_MC>P_MF:\n",
    "        print(\"Hay un regimen de lluvias de tipo w, con más lluvias en verano\")\n",
    "        \n",
    "    elif P_MC< 10*P_ms and P_MF< 3*P_ms:\n",
    "        print(\"Hay un regimen de lluvias de tipo x', con lluvias durante todo el año\")\n",
    "        \n",
    "    elif P_MF> 3*P_ms and P_MF<P_MC:\n",
    "        print(\"Hay un regimen de lluvias de tipo x', con lluvias durante todo el año\")\n",
    "        \n",
    "    elif P_MC> 10*P_ms and P_MC<P_MF:\n",
    "        print(\"Hay un regimen de lluvias de tipo x', con lluvias durante todo el año\")"
   ]
  },
  {
   "cell_type": "code",
   "execution_count": 30,
   "metadata": {
    "scrolled": true
   },
   "outputs": [
    {
     "name": "stdout",
     "output_type": "stream",
     "text": [
      "Precipitación del mes más humedo de la mitad fria:48\n",
      "Precipitación del mes más humedo de la mitad calida:8\n",
      "Precipitación del mes más seco del año:2\n",
      "Hay un regimen de llluvias de tipo s, con más lluvias en invierno\n"
     ]
    }
   ],
   "source": [
    "R_Lluvia()"
   ]
  },
  {
   "cell_type": "code",
   "execution_count": 31,
   "metadata": {
    "scrolled": false
   },
   "outputs": [
    {
     "name": "stdout",
     "output_type": "stream",
     "text": [
      "Precipitación del mes más humedo de la mitad fria:13\n",
      "Precipitación del mes más humedo de la mitad calida:122\n",
      "Precipitación del mes más seco del año:0\n",
      "Hay un regimen de llluvias de tipo w, con más lluvias en verano\n"
     ]
    }
   ],
   "source": [
    "R_Lluvia()"
   ]
  },
  {
   "cell_type": "code",
   "execution_count": 32,
   "metadata": {
    "scrolled": false
   },
   "outputs": [
    {
     "name": "stdout",
     "output_type": "stream",
     "text": [
      "Precipitación del mes más humedo de la mitad fria:66\n",
      "Precipitación del mes más humedo de la mitad calida:91\n",
      "Precipitación del mes más seco del año:53\n",
      "Hay un regimen de llluvias de tipo x', con lluvias durante todo el año\n"
     ]
    }
   ],
   "source": [
    "R_Lluvia()"
   ]
  },
  {
   "cell_type": "markdown",
   "metadata": {},
   "source": [
    "### Función para determinar si es un clima húmedo o seco."
   ]
  },
  {
   "cell_type": "markdown",
   "metadata": {},
   "source": [
    "Esta función es para un clima con regimen de lluvia de tipo **s**, con lluvias en invierno."
   ]
  },
  {
   "cell_type": "code",
   "execution_count": 14,
   "metadata": {},
   "outputs": [],
   "source": [
    "def ClimaHS_s():\n",
    "    \n",
    "    r= float(input('Volumen total de precipitación anual en cm: '))\n",
    "    t= float(input('Temperatura media anual en ºC:'))\n",
    "    if r<= 2*t: \n",
    "        print ('Es un clima Seco (B)')\n",
    "    elif r> 2*t:\n",
    "        print ('Es un clima Humedo')"
   ]
  },
  {
   "cell_type": "code",
   "execution_count": 15,
   "metadata": {
    "scrolled": false
   },
   "outputs": [
    {
     "name": "stdout",
     "output_type": "stream",
     "text": [
      "Volumen total de precipitación anual en cm: 62.7\n",
      "Temperatura media anual en ºC:15.8\n",
      "Es un clima Humedo\n"
     ]
    }
   ],
   "source": [
    "ClimaHS_s()"
   ]
  },
  {
   "cell_type": "code",
   "execution_count": 16,
   "metadata": {},
   "outputs": [
    {
     "name": "stdout",
     "output_type": "stream",
     "text": [
      "Volumen total de precipitación anual en cm: 11.6\n",
      "Temperatura media anual en ºC:18.3\n",
      "Es un clima Seco (B)\n"
     ]
    }
   ],
   "source": [
    "ClimaHS_s()"
   ]
  },
  {
   "cell_type": "markdown",
   "metadata": {},
   "source": [
    "Esta función es para un clima con regimen de lluvia de tipo w, con lluvias en verano."
   ]
  },
  {
   "cell_type": "code",
   "execution_count": 17,
   "metadata": {},
   "outputs": [],
   "source": [
    "def ClimaHS_w():\n",
    "    \n",
    "    r= float(input('Volumen total de precipitación anual en cm: '))\n",
    "    t= float(input('Temperatura media anual en ºC:'))\n",
    "    if r<= 2*(t+14): \n",
    "        print ('Es un clima Seco (B)')\n",
    "    elif r> 2*(t+14):\n",
    "        print ('Es un clima Humedo')"
   ]
  },
  {
   "cell_type": "code",
   "execution_count": 18,
   "metadata": {
    "scrolled": true
   },
   "outputs": [
    {
     "name": "stdout",
     "output_type": "stream",
     "text": [
      "Volumen total de precipitación anual en cm: 156.8\n",
      "Temperatura media anual en ºC:28.09\n",
      "Es un clima Humedo\n"
     ]
    }
   ],
   "source": [
    "ClimaHS_w()\n"
   ]
  },
  {
   "cell_type": "code",
   "execution_count": 20,
   "metadata": {},
   "outputs": [
    {
     "name": "stdout",
     "output_type": "stream",
     "text": [
      "Volumen total de precipitación anual en cm: 40.91\n",
      "Temperatura media anual en ºC:8.3\n",
      "Es un clima Seco (B)\n"
     ]
    }
   ],
   "source": [
    "ClimaHS_w()"
   ]
  },
  {
   "cell_type": "markdown",
   "metadata": {},
   "source": [
    "Esta función es para un clima con regimen de lluvia de tipo x', con lluvias todo el año."
   ]
  },
  {
   "cell_type": "code",
   "execution_count": 21,
   "metadata": {},
   "outputs": [],
   "source": [
    "def ClimaHS_x():\n",
    "    \n",
    "    r= float(input('Volumen total de precipitación anual en cm: '))\n",
    "    t= float(input('Temperatura media anual en ºC:'))\n",
    "    if r<= 2*(t+7): \n",
    "        print ('Es un clima Seco (B)')\n",
    "    elif r> 2*(t+7):\n",
    "        print ('Es un clima Humedo')"
   ]
  },
  {
   "cell_type": "code",
   "execution_count": 22,
   "metadata": {
    "scrolled": true
   },
   "outputs": [
    {
     "name": "stdout",
     "output_type": "stream",
     "text": [
      "Volumen total de precipitación anual en cm: 14.3\n",
      "Temperatura media anual en ºC:12.5\n",
      "Es un clima Seco (B)\n"
     ]
    }
   ],
   "source": [
    "ClimaHS_x()"
   ]
  },
  {
   "cell_type": "code",
   "execution_count": 24,
   "metadata": {},
   "outputs": [
    {
     "name": "stdout",
     "output_type": "stream",
     "text": [
      "Volumen total de precipitación anual en cm: 14.3\n",
      "Temperatura media anual en ºC:-12.5\n",
      "Es un clima Humedo\n"
     ]
    }
   ],
   "source": [
    "ClimaHS_x()"
   ]
  },
  {
   "cell_type": "markdown",
   "metadata": {},
   "source": [
    "### Formulas para determinar a que grupo climatico pertenece."
   ]
  },
  {
   "cell_type": "code",
   "execution_count": 25,
   "metadata": {},
   "outputs": [],
   "source": [
    "def Climas_H():\n",
    "\n",
    "    T_max = float(input(\"Mes mas calido del año(en °C):\"))\n",
    "    T_min = float(input(\"Mes mas frio del año(en °C):\"))\n",
    "    \n",
    "    if T_max >= 18 and T_min >= 18:\n",
    "        print(\"El grupo de clima es: A, clima tropical\")\n",
    "              \n",
    "    elif T_max >= 18 and 18 >= T_min >= 0:\n",
    "        print(\"El grupo de clima es: C, clima templado\")\n",
    "              \n",
    "    elif 18 >= T_max >= 10 and T_min <= 0:\n",
    "        print(\"El grupo de clima es: D, clima Boreal\")\n",
    "\n",
    "    elif T_max <= 10 and T_min <= 0:\n",
    "        print(\"El grupo de clima es: E, clima Frio o Polar\")\n",
    "        \n",
    "    else:\n",
    "        print(\"Los datos proporcionados son incorrectos\")"
   ]
  },
  {
   "cell_type": "code",
   "execution_count": 26,
   "metadata": {
    "scrolled": true
   },
   "outputs": [
    {
     "name": "stdout",
     "output_type": "stream",
     "text": [
      "Mes mas calido del año(en °C):28.4\n",
      "Mes mas frio del año(en °C):22.2\n",
      "El grupo de clima es: A, clima tropical\n"
     ]
    }
   ],
   "source": [
    "Climas_H()"
   ]
  },
  {
   "cell_type": "code",
   "execution_count": 28,
   "metadata": {},
   "outputs": [
    {
     "name": "stdout",
     "output_type": "stream",
     "text": [
      "Mes mas calido del año(en °C):22.8\n",
      "Mes mas frio del año(en °C):6.7\n",
      "El grupo de clima es: C, clima templado\n"
     ]
    }
   ],
   "source": [
    "Climas_H()"
   ]
  },
  {
   "cell_type": "code",
   "execution_count": 29,
   "metadata": {},
   "outputs": [
    {
     "name": "stdout",
     "output_type": "stream",
     "text": [
      "Mes mas calido del año(en °C):15.6\n",
      "Mes mas frio del año(en °C):-13.3\n",
      "El grupo de clima es: D, clima Boreal\n"
     ]
    }
   ],
   "source": [
    "Climas_H()"
   ]
  },
  {
   "cell_type": "code",
   "execution_count": 27,
   "metadata": {},
   "outputs": [
    {
     "name": "stdout",
     "output_type": "stream",
     "text": [
      "Mes mas calido del año(en °C):4.4\n",
      "Mes mas frio del año(en °C):-28.3\n",
      "El grupo de clima es: E, clima Frio o Polar\n"
     ]
    }
   ],
   "source": [
    "Climas_H()"
   ]
  },
  {
   "cell_type": "markdown",
   "metadata": {},
   "source": [
    "## Funciones para deterinar subgrupos y subtipos climáticos"
   ]
  },
  {
   "cell_type": "markdown",
   "metadata": {},
   "source": [
    "### Funciones para determinar el subgrupo de climas secos en base al regimen térmico"
   ]
  },
  {
   "cell_type": "markdown",
   "metadata": {},
   "source": [
    "Esta función determina el subgrupo de secos para un clima con regin de lluvias **s**, con lluvias en invierno."
   ]
  },
  {
   "cell_type": "code",
   "execution_count": 3,
   "metadata": {},
   "outputs": [],
   "source": [
    "def Secos_s():\n",
    "    r= float(input('Volumen total de precipitación anual en cm: '))\n",
    "    t= float(input('Temperatura media anual en ºC:'))\n",
    "    if r<= t: \n",
    "        print ('Es un clima Seco desertico(BW)')\n",
    "    elif r>t:\n",
    "        print ('Es un clima Seco Estepario(BS)')\n",
    "    "
   ]
  },
  {
   "cell_type": "code",
   "execution_count": 4,
   "metadata": {
    "scrolled": true
   },
   "outputs": [
    {
     "name": "stdout",
     "output_type": "stream",
     "text": [
      "Volumen total de precipitación anual en cm: 40.91\n",
      "Temperatura media anual en ºC:8.3\n",
      "Es un clima Seco Estepario(BS)\n"
     ]
    }
   ],
   "source": [
    "Secos_s()"
   ]
  },
  {
   "cell_type": "code",
   "execution_count": 5,
   "metadata": {
    "scrolled": true
   },
   "outputs": [
    {
     "name": "stdout",
     "output_type": "stream",
     "text": [
      "Volumen total de precipitación anual en cm: 17.6\n",
      "Temperatura media anual en ºC:22.9\n",
      "Es un clima Seco desertico(BW)\n"
     ]
    }
   ],
   "source": [
    "Secos_s()"
   ]
  },
  {
   "cell_type": "markdown",
   "metadata": {},
   "source": [
    "Esta función determina el subgrupo de secos para un clima con regin de lluvias **x**, con lluvias durante todo el año."
   ]
  },
  {
   "cell_type": "code",
   "execution_count": 6,
   "metadata": {},
   "outputs": [],
   "source": [
    "def Secos_x():\n",
    "    r= float(input('Volumen total de precipitación anual en cm: '))\n",
    "    t= float(input('Temperatura media anual en ºC:'))\n",
    "    if r<= t+7: \n",
    "        print ('Es un clima Seco desertico(BW)')\n",
    "    elif r>t+7:\n",
    "        print ('Es un clima Seco Estepario(BS)')\n",
    "    "
   ]
  },
  {
   "cell_type": "code",
   "execution_count": 7,
   "metadata": {},
   "outputs": [
    {
     "name": "stdout",
     "output_type": "stream",
     "text": [
      "Volumen total de precipitación anual en cm: 14.3\n",
      "Temperatura media anual en ºC:12.5\n",
      "Es un clima Seco desertico(BW)\n"
     ]
    }
   ],
   "source": [
    "Secos_x()"
   ]
  },
  {
   "cell_type": "code",
   "execution_count": 10,
   "metadata": {
    "scrolled": true
   },
   "outputs": [
    {
     "name": "stdout",
     "output_type": "stream",
     "text": [
      "Volumen total de precipitación anual en cm: 20.7\n",
      "Temperatura media anual en ºC:12.1\n",
      "Es un clima Seco Estepario(BS)\n"
     ]
    }
   ],
   "source": [
    "Secos_x()"
   ]
  },
  {
   "cell_type": "markdown",
   "metadata": {},
   "source": [
    "Esta función determina el subgrupo de secos para un clima con regin de lluvias **w**, con lluvias en verano."
   ]
  },
  {
   "cell_type": "code",
   "execution_count": 11,
   "metadata": {},
   "outputs": [],
   "source": [
    "def Secos_w():\n",
    "    r= float(input('Volumen total de precipitación anual en cm: '))\n",
    "    t= float(input('Temperatura media anual en ºC:'))\n",
    "    if r<= t+14: \n",
    "        print ('Es un clima Seco desertico(BW)')\n",
    "    elif r>t+14:\n",
    "        print ('Es un clima Seco Estepario(BS)')\n",
    "    "
   ]
  },
  {
   "cell_type": "code",
   "execution_count": 12,
   "metadata": {},
   "outputs": [
    {
     "name": "stdout",
     "output_type": "stream",
     "text": [
      "Volumen total de precipitación anual en cm: 37.2\n",
      "Temperatura media anual en ºC:11.1\n",
      "Es un clima Seco Estepario(BS)\n"
     ]
    }
   ],
   "source": [
    "Secos_w()"
   ]
  },
  {
   "cell_type": "code",
   "execution_count": 13,
   "metadata": {},
   "outputs": [
    {
     "name": "stdout",
     "output_type": "stream",
     "text": [
      "Volumen total de precipitación anual en cm: 11.6\n",
      "Temperatura media anual en ºC:18.3\n",
      "Es un clima Seco desertico(BW)\n"
     ]
    }
   ],
   "source": [
    "Secos_w()"
   ]
  },
  {
   "cell_type": "markdown",
   "metadata": {},
   "source": [
    "### Función para determinar el tipo de regimen térmico de un clima seco"
   ]
  },
  {
   "cell_type": "code",
   "execution_count": 46,
   "metadata": {},
   "outputs": [],
   "source": [
    "def RegT_secos():\n",
    "    T_A= float(input('Temperatura media anual en ºC:'))\n",
    "    T_MF= float(input('Temperatura media del mes más frio en ºC:'))\n",
    "    T_MC= float(input('Temperatura media del mes más calido en ºC:'))\n",
    "    \n",
    "    if T_A>=18 and T_MF>=18:\n",
    "        print(\"Es un clima seco muy calido (h')\")\n",
    "        \n",
    "    elif T_A>=18 and T_MF<18:\n",
    "        print('Es un clima seco calido (h)')\n",
    "        \n",
    "    elif T_A<18 and T_MC>18:\n",
    "        print('Es un clima seco frio (k)')\n",
    "        \n",
    "    elif T_A<18 and T_MC<18:\n",
    "        print(\"Es un clima seco muy frio (k')\")"
   ]
  },
  {
   "cell_type": "code",
   "execution_count": 47,
   "metadata": {},
   "outputs": [
    {
     "name": "stdout",
     "output_type": "stream",
     "text": [
      "Temperatura media anual en ºC:22.9\n",
      "Temperatura media del mes más frio en ºC:9.4\n",
      "Temperatura media del mes más calido en ºC:35\n",
      "Es un clima seco calido (h)\n"
     ]
    }
   ],
   "source": [
    "RegT_secos()"
   ]
  },
  {
   "cell_type": "code",
   "execution_count": 48,
   "metadata": {},
   "outputs": [
    {
     "name": "stdout",
     "output_type": "stream",
     "text": [
      "Temperatura media anual en ºC:19\n",
      "Temperatura media del mes más frio en ºC:18.7\n",
      "Temperatura media del mes más calido en ºC:22\n",
      "Es un clima seco muy calido (h')\n"
     ]
    }
   ],
   "source": [
    "RegT_secos()"
   ]
  },
  {
   "cell_type": "code",
   "execution_count": 50,
   "metadata": {
    "scrolled": false
   },
   "outputs": [
    {
     "name": "stdout",
     "output_type": "stream",
     "text": [
      "Temperatura media anual en ºC:15.95\n",
      "Temperatura media del mes más frio en ºC:12.2\n",
      "Temperatura media del mes más calido en ºC:20\n",
      "Es un clima seco frio (k)\n"
     ]
    }
   ],
   "source": [
    "RegT_secos()"
   ]
  },
  {
   "cell_type": "code",
   "execution_count": 51,
   "metadata": {},
   "outputs": [
    {
     "name": "stdout",
     "output_type": "stream",
     "text": [
      "Temperatura media anual en ºC:8.3\n",
      "Temperatura media del mes más frio en ºC:-1.7\n",
      "Temperatura media del mes más calido en ºC:16.7\n",
      "Es un clima seco muy frio (k')\n"
     ]
    }
   ],
   "source": [
    "RegT_secos()"
   ]
  },
  {
   "cell_type": "markdown",
   "metadata": {},
   "source": [
    "### Función para definir los subgrupos climaticos en base al regimen térmico"
   ]
  },
  {
   "cell_type": "code",
   "execution_count": 14,
   "metadata": {},
   "outputs": [],
   "source": [
    "def S_clima():#zonas climaticas\n",
    "    t_med= float(input('Temperatura media anual(en °C): '))\n",
    "    t_min = float(input('Temperatura media del mes más frio(en °C): '))\n",
    "    t_max= float(input('Temperatura media del mes más caliente(en °C): '))\n",
    "\n",
    "    if  t_med > 18 and t_min > 18:\n",
    "        print(\"El grupo de clima es: A, clima tropical\")\n",
    "        \n",
    "        if t_med > 26 and t_min > 18:\n",
    "            print(\"Subgrupo: Muy calido, símbolo: A\")\n",
    "        \n",
    "        elif 26 >= t_med >22 and t_min > 18:\n",
    "            print(\"Subgrupo: Calido, símbolo: A\")\n",
    "            \n",
    "        elif 22 >= t_med >= 18 and t_min > 18:\n",
    "            print(\"subgrupo: Semicálido del grupo A, símbolo A(C)\")\n",
    "\n",
    "    elif t_med > 18 and 18 >= t_min > 3 and t_max > 6.5:\n",
    "        print(\"El grupo de clima es: C, clima templado\")\n",
    "        print(\"Subgrupo: Semicálido del grupo C, símbolo C(A)\")    \n",
    "        \n",
    "    elif 18 >= t_med >= 5 and 18  >= t_min >= 3:\n",
    "        print(\"El grupo de clima es: C, clima templado\")\n",
    "        \n",
    "        if 18 >= t_med >= 12  and 18 >= t_min >= 3 and t_max > 22:\n",
    "            print(\"Subgrupo: Templado con verano calido, se simboliza con Ca\")\n",
    "            \n",
    "        elif 18 >= t_med >= 12  and 18 >= t_min >= 3 and 22 >= t_max >= 6.5:\n",
    "            print(\"Subgrupo: Templado con verano fresco largo, se simboliza con Cb\")\n",
    "            \n",
    "        elif 12 >= t_med >= 5 and 18 >= t_min >= 3 and 22 >= t_max >= 6.5:\n",
    "            print(\"Subgrupo: Semifrío con verano fresco largo, se simboliza con C(b')\")\n",
    "            \n",
    "        elif 12 >= t_med >= 5 and 18 >= t_min >= 3 and t_max < 6.5:\n",
    "            print(\"Subgrupo: Semifrío con verano fresco corto, se simboliza con Cc\")\n",
    "    \n",
    "    elif 5 >= t_med and t_min < 0 and t_max <= 6.5:\n",
    "        print(\"El grupo de clima es: E, clima clima Frio o Polar\")\n",
    "        \n",
    "        if 5 >= t_med >= 2 and t_min < 0 and 6.5 >= t_max >= 0:\n",
    "            print(\"Subgrupo: Frío, se simboliza con E(T)\")\n",
    "            \n",
    "        if t_med < 2 and t_min<0 and t_max < 0:\n",
    "            print(\"Subgrupo: Muy Frío, se simboliza con EF\")\n",
    "            \n",
    "    else:\n",
    "        print(\"Los datos proporcionados son incorrectos\")"
   ]
  },
  {
   "cell_type": "code",
   "execution_count": 5,
   "metadata": {},
   "outputs": [
    {
     "name": "stdout",
     "output_type": "stream",
     "text": [
      "Temperatura media anual(en °C): 26.03\n",
      "Temperatura media del mes más frio(en °C): 22.2\n",
      "Temperatura media del mes más caliente(en °C): 28.4\n",
      "El grupo de clima es: A, clima tropical\n",
      "Subgrupo: Muy calido, símbolo: A\n"
     ]
    }
   ],
   "source": [
    "S_clima()"
   ]
  },
  {
   "cell_type": "code",
   "execution_count": 3,
   "metadata": {},
   "outputs": [
    {
     "name": "stdout",
     "output_type": "stream",
     "text": [
      "Temperatura media anual(en °C): 19.5\n",
      "Temperatura media del mes más frio(en °C): 16.5\n",
      "Temperatura media del mes más caliente(en °C): 17\n",
      "El grupo de clima es: C, clima templado\n",
      "Subgrupo: Semicálido del grupo C, símbolo C(A)\n"
     ]
    }
   ],
   "source": [
    "S_clima()"
   ]
  },
  {
   "cell_type": "code",
   "execution_count": 4,
   "metadata": {},
   "outputs": [
    {
     "name": "stdout",
     "output_type": "stream",
     "text": [
      "Temperatura media anual(en °C): 15.8\n",
      "Temperatura media del mes más frio(en °C): 6.7\n",
      "Temperatura media del mes más caliente(en °C): 22.8\n",
      "El grupo de clima es: C, clima templado\n",
      "Subgrupo: Templado con verano calido, se simboliza con Ca\n"
     ]
    }
   ],
   "source": [
    "S_clima()\n"
   ]
  },
  {
   "cell_type": "code",
   "execution_count": 15,
   "metadata": {
    "scrolled": false
   },
   "outputs": [
    {
     "name": "stdout",
     "output_type": "stream",
     "text": [
      "Temperatura media anual(en °C): -12.5\n",
      "Temperatura media del mes más frio(en °C): -28.3\n",
      "Temperatura media del mes más caliente(en °C): 4.4\n",
      "El grupo de clima es: E, clima clima Frio o Polar\n"
     ]
    }
   ],
   "source": [
    "S_clima()"
   ]
  },
  {
   "cell_type": "code",
   "execution_count": 16,
   "metadata": {},
   "outputs": [
    {
     "name": "stdout",
     "output_type": "stream",
     "text": [
      "Temperatura media anual(en °C): -12.5\n",
      "Temperatura media del mes más frio(en °C): -28.3\n",
      "Temperatura media del mes más caliente(en °C): -4\n",
      "El grupo de clima es: E, clima clima Frio o Polar\n",
      "Subgrupo: Muy Frío, se simboliza con EF\n"
     ]
    }
   ],
   "source": [
    "S_clima()"
   ]
  },
  {
   "cell_type": "code",
   "execution_count": 17,
   "metadata": {},
   "outputs": [
    {
     "name": "stdout",
     "output_type": "stream",
     "text": [
      "Temperatura media anual(en °C): 3.2\n",
      "Temperatura media del mes más frio(en °C): -12\n",
      "Temperatura media del mes más caliente(en °C): 3.1\n",
      "El grupo de clima es: E, clima clima Frio o Polar\n",
      "Subgrupo: Frío, se simboliza con E(T)\n"
     ]
    }
   ],
   "source": [
    "S_clima()"
   ]
  },
  {
   "cell_type": "markdown",
   "metadata": {},
   "source": [
    "### Función para osilación isotermal \"i\""
   ]
  },
  {
   "cell_type": "code",
   "execution_count": 26,
   "metadata": {},
   "outputs": [],
   "source": [
    "def Iso():\n",
    "    t_max= float(input('Temperatura media del mes más caliente(en °C): '))\n",
    "    t_min = float(input('Temperatura media del mes más frio(en °C): '))\n",
    "    \n",
    "    if t_max-t_min<=5:\n",
    "        print('Tenemos osilación isotermal, letra i')\n",
    "        \n",
    "    elif t_max-t_min>5:\n",
    "        print('No tenemos oscilación isotermal')"
   ]
  },
  {
   "cell_type": "code",
   "execution_count": 27,
   "metadata": {},
   "outputs": [
    {
     "name": "stdout",
     "output_type": "stream",
     "text": [
      "Temperatura media del mes más caliente(en °C): 20.6\n",
      "Temperatura media del mes más frio(en °C): 16.1\n",
      "Tenemos osilación isotermal, letra i\n"
     ]
    }
   ],
   "source": [
    "Iso()"
   ]
  },
  {
   "cell_type": "code",
   "execution_count": 28,
   "metadata": {},
   "outputs": [
    {
     "name": "stdout",
     "output_type": "stream",
     "text": [
      "Temperatura media del mes más caliente(en °C): 16.7\n",
      "Temperatura media del mes más frio(en °C): -1.7\n",
      "No tenemos oscilación isotermal\n"
     ]
    }
   ],
   "source": [
    "Iso()"
   ]
  }
 ],
 "metadata": {
  "kernelspec": {
   "display_name": "Python 3",
   "language": "python",
   "name": "python3"
  },
  "language_info": {
   "codemirror_mode": {
    "name": "ipython",
    "version": 3
   },
   "file_extension": ".py",
   "mimetype": "text/x-python",
   "name": "python",
   "nbconvert_exporter": "python",
   "pygments_lexer": "ipython3",
   "version": "3.8.3"
  }
 },
 "nbformat": 4,
 "nbformat_minor": 4
}
