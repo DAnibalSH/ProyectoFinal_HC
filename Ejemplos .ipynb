{
 "cells": [
  {
   "cell_type": "markdown",
   "metadata": {},
   "source": [
    "# Ejemplo del uso del codigo obtenido"
   ]
  },
  {
   "cell_type": "markdown",
   "metadata": {},
   "source": [
    "En este notebook hacemos uso de las funciones obtenidas para la clasificación de los climas de 4 ubicaciones de la Republica mexicana de modo que podamos ejemplificar el uso de las funciones."
   ]
  },
  {
   "cell_type": "code",
   "execution_count": 47,
   "metadata": {},
   "outputs": [],
   "source": [
    "def R_Lluvia():\n",
    "    \n",
    "    P_MF= float(input('Precipitación del mes más humedo de la mitad fria:'))\n",
    "    P_MC= float(input('Precipitación del mes más humedo de la mitad calida:'))\n",
    "    P_ms= float(input('Precipitación del mes más seco del año:'))\n",
    "    \n",
    "    if P_MF> 3*P_ms and P_MF>P_MC:\n",
    "        print(\"Hay un regimen de lluvias de tipo s, con más lluvias en invierno\")\n",
    "    \n",
    "    elif P_MC> 10*P_ms and P_MC>P_MF:\n",
    "        print(\"Hay un regimen de lluvias de tipo w, con más lluvias en verano\")\n",
    "        \n",
    "    elif P_MC< 10*P_ms and P_MF< 3*P_ms:\n",
    "        print(\"Hay un regimen de lluvias de tipo x', con lluvias durante todo el año\")\n",
    "        \n",
    "    elif P_MF> 3*P_ms and P_MF<P_MC:\n",
    "        print(\"Hay un regimen de lluvias de tipo x', con lluvias durante todo el año\")\n",
    "        \n",
    "    elif P_MC> 10*P_ms and P_MC<P_MF:\n",
    "        print(\"Hay un regimen de lluvias de tipo x', con lluvias durante todo el año\")"
   ]
  },
  {
   "cell_type": "code",
   "execution_count": 48,
   "metadata": {},
   "outputs": [],
   "source": [
    "def ClimaHS_x():\n",
    "    \n",
    "    r= float(input('Volumen total de precipitación anual en cm: '))\n",
    "    t= float(input('Temperatura media anual en ºC:'))\n",
    "    if r<= 2*(t+7): \n",
    "        print ('Es un clima Seco (B)')\n",
    "    elif r> 2*(t+7):\n",
    "        print ('Es un clima Humedo')"
   ]
  },
  {
   "cell_type": "code",
   "execution_count": 49,
   "metadata": {},
   "outputs": [],
   "source": [
    "def ClimaHS_w():\n",
    "    \n",
    "    r= float(input('Volumen total de precipitación anual en cm: '))\n",
    "    t= float(input('Temperatura media anual en ºC:'))\n",
    "    if r<= 2*(t+14): \n",
    "        print ('Es un clima Seco (B)')\n",
    "    elif r> 2*(t+14):\n",
    "        print ('Es un clima Humedo')"
   ]
  },
  {
   "cell_type": "code",
   "execution_count": 50,
   "metadata": {},
   "outputs": [],
   "source": [
    "def ClimaHS_s():\n",
    "    \n",
    "    r= float(input('Volumen total de precipitación anual en cm: '))\n",
    "    t= float(input('Temperatura media anual en ºC:'))\n",
    "    if r<= 2*t: \n",
    "        print ('Es un clima Seco (B)')\n",
    "    elif r> 2*t:\n",
    "        print ('Es un clima Humedo')"
   ]
  },
  {
   "cell_type": "code",
   "execution_count": 51,
   "metadata": {},
   "outputs": [],
   "source": [
    "def Climas_H():\n",
    "\n",
    "    T_max = float(input(\"Mes mas calido del año(en °C):\"))\n",
    "    T_min = float(input(\"Mes mas frio del año(en °C):\"))\n",
    "    \n",
    "    if T_max >= 18 and T_min >= 18:\n",
    "        print(\"El grupo de clima es: A, clima tropical\")\n",
    "              \n",
    "    elif T_max >= 18 and 18 >= T_min >= 0:\n",
    "        print(\"El grupo de clima es: C, clima templado\")\n",
    "              \n",
    "    elif 18 >= T_max >= 10 and T_min <= 0:\n",
    "        print(\"El grupo de clima es: D, clima Boreal\")\n",
    "\n",
    "    elif T_max <= 10 and T_min <= 0:\n",
    "        print(\"El grupo de clima es: E, clima Frio o Polar\")\n",
    "        \n",
    "    else:\n",
    "        print(\"Los datos proporcionados son incorrectos\")\n",
    "        "
   ]
  },
  {
   "cell_type": "code",
   "execution_count": 63,
   "metadata": {},
   "outputs": [],
   "source": [
    "def S_clima():#zonas climaticas\n",
    "    t_med= float(input('Temperatura media anual(en °C): '))\n",
    "    t_min = float(input('Temperatura media del mes más frio(en °C): '))\n",
    "    t_max= float(input('Temperatura media del mes más caliente(en °C): '))\n",
    "\n",
    "    if  t_med > 18 and t_min > 18:\n",
    "        print(\"El grupo de clima es: A, clima tropical\")\n",
    "        \n",
    "        if t_med > 26 and t_min > 18:\n",
    "            print(\"Subgrupo: Muy calido, símbolo: A\")\n",
    "        \n",
    "        elif 26 >= t_med >22 and t_min > 18:\n",
    "            print(\"Subgrupo: Calido, símbolo: A\")\n",
    "            \n",
    "        elif 22 >= t_med >= 18 and t_min > 18:\n",
    "            print(\"subgrupo: Semicálido del grupo A, símbolo A(C)\")\n",
    "\n",
    "    elif t_med > 18 and 18 >= t_min > 3 and t_max > 6.5:\n",
    "        print(\"El grupo de clima es: C, clima templado\")\n",
    "        print(\"Subgrupo: Semicálido del grupo C, símbolo C(A)\")    \n",
    "        \n",
    "    elif 18 >= t_med >= 5 and 18  >= t_min >= 3:\n",
    "        print(\"El grupo de clima es: C, clima templado\")\n",
    "        \n",
    "        if 18 >= t_med >= 12  and 18 >= t_min >= 3 and t_max > 22:\n",
    "            print(\"Subgrupo: Templado con verano calido, se simboliza con Ca\")\n",
    "            \n",
    "        elif 18 >= t_med >= 12  and 18 >= t_min >= 3 and 22 >= t_max >= 6.5:\n",
    "            print(\"Subgrupo: Templado con verano fresco largo, se simboliza con Cb\")\n",
    "            \n",
    "        elif 12 >= t_med >= 5 and 18 >= t_min >= 3 and 22 >= t_max >= 6.5:\n",
    "            print(\"Subgrupo: Semifrío con verano fresco largo, se simboliza con C(b')\")\n",
    "            \n",
    "        elif 12 >= t_med >= 5 and 18 >= t_min >= 3 and t_max < 6.5:\n",
    "            print(\"Subgrupo: Semifrío con verano fresco corto, se simboliza con Cc\")\n",
    "    \n",
    "    elif 5 >= t_med and t_min < 0 and t_max <= 6.5:\n",
    "        print(\"El grupo de clima es: E, clima clima Frio o Polar\")\n",
    "        \n",
    "        if 5 >= t_med >= 2 and t_min < 0 and 6.5 >= t_max >= 0:\n",
    "            print(\"Subgrupo: Frío, se simboliza con E(T)\")\n",
    "            \n",
    "        if t_med < 2 and t_min<0 and t_max < 0:\n",
    "            print(\"Subgrupo: Muy Frío, se simboliza con EF\")\n",
    "            \n",
    "    else:\n",
    "        print(\"Los datos proporcionados son incorrectos\")"
   ]
  },
  {
   "cell_type": "code",
   "execution_count": 53,
   "metadata": {},
   "outputs": [],
   "source": [
    "def Iso():\n",
    "    t_max= float(input('Temperatura media del mes más caliente(en °C): '))\n",
    "    t_min = float(input('Temperatura media del mes más frio(en °C): '))\n",
    "    \n",
    "    if t_max-t_min<=5:\n",
    "        print('Tenemos osilación isotermal, letra i')\n",
    "        \n",
    "    elif t_max-t_min>5:\n",
    "        print('No tenemos oscilación isotermal')"
   ]
  },
  {
   "cell_type": "markdown",
   "metadata": {},
   "source": [
    "## Ejemplo clima Tropical A"
   ]
  },
  {
   "cell_type": "markdown",
   "metadata": {},
   "source": [
    "Para la clasificación del clima de la ciudad de Playa del Carmen, Quintana Roo tenemos el siguiente codigo."
   ]
  },
  {
   "cell_type": "code",
   "execution_count": 20,
   "metadata": {
    "scrolled": true
   },
   "outputs": [
    {
     "name": "stdout",
     "output_type": "stream",
     "text": [
      "Precipitación del mes más humedo de la mitad fria:240\n",
      "Precipitación del mes más humedo de la mitad calida:283\n",
      "Precipitación del mes más seco del año:48\n",
      "Hay un regimen de lluvias de tipo x', con lluvias durante todo el año\n"
     ]
    }
   ],
   "source": [
    "R_Lluvia()"
   ]
  },
  {
   "cell_type": "markdown",
   "metadata": {},
   "source": [
    "Puesto que tenemos un clima con regimen de lluvias de tipo **x'** usamos la siguiente función.\n"
   ]
  },
  {
   "cell_type": "code",
   "execution_count": 22,
   "metadata": {},
   "outputs": [
    {
     "name": "stdout",
     "output_type": "stream",
     "text": [
      "Volumen total de precipitación anual en cm: 145.27\n",
      "Temperatura media anual en ºC:25.87\n",
      "Es un clima Humedo\n"
     ]
    }
   ],
   "source": [
    "ClimaHS_x()"
   ]
  },
  {
   "cell_type": "markdown",
   "metadata": {},
   "source": [
    "Una vez determinamos que es un clima humedo usamos la siguiente función"
   ]
  },
  {
   "cell_type": "code",
   "execution_count": 9,
   "metadata": {},
   "outputs": [
    {
     "name": "stdout",
     "output_type": "stream",
     "text": [
      "Mes mas calido del año(en °C):28.1\n",
      "Mes mas frio del año(en °C):23\n",
      "El grupo de clima es: A, clima tropical\n"
     ]
    }
   ],
   "source": [
    "Climas_H()"
   ]
  },
  {
   "cell_type": "markdown",
   "metadata": {},
   "source": [
    "Una vemos que sabemos el grupo climático debemos usar la siguiente función para saber si tenemos un subgrupo"
   ]
  },
  {
   "cell_type": "code",
   "execution_count": 24,
   "metadata": {},
   "outputs": [
    {
     "name": "stdout",
     "output_type": "stream",
     "text": [
      "Temperatura media anual(en °C): 25.87\n",
      "Temperatura media del mes más frio(en °C): 23\n",
      "Temperatura media del mes más caliente(en °C): 28.1\n",
      "El grupo de clima es: A, clima tropical\n",
      "Subgrupo: Calido, símbolo: A\n"
     ]
    }
   ],
   "source": [
    "S_clima()"
   ]
  },
  {
   "cell_type": "markdown",
   "metadata": {},
   "source": [
    "Lo unico que falta es saber si tenemos un clima con oscilación isotermal por lo que usamos la función"
   ]
  },
  {
   "cell_type": "code",
   "execution_count": 26,
   "metadata": {},
   "outputs": [
    {
     "name": "stdout",
     "output_type": "stream",
     "text": [
      "Temperatura media del mes más caliente(en °C): 28.1\n",
      "Temperatura media del mes más frio(en °C): 23\n",
      "No tenemos oscilación isotermal\n"
     ]
    }
   ],
   "source": [
    "Iso()"
   ]
  },
  {
   "cell_type": "markdown",
   "metadata": {},
   "source": [
    "Asi tenemos que el clima de la ciudad de Playa del Carmen es Tropical calido con lluvias todo el año y sin oscilación isotermal. En codigo tenemos lo siguiente **Ax'**."
   ]
  },
  {
   "cell_type": "markdown",
   "metadata": {},
   "source": [
    "## Ejemplo clima seco "
   ]
  },
  {
   "cell_type": "markdown",
   "metadata": {},
   "source": [
    "El siguiente proceso es para la clasificación de Hermosillo sonora."
   ]
  },
  {
   "cell_type": "code",
   "execution_count": 68,
   "metadata": {
    "scrolled": false
   },
   "outputs": [
    {
     "name": "stdout",
     "output_type": "stream",
     "text": [
      "Precipitación del mes más humedo de la mitad fria:9.8\n",
      "Precipitación del mes más humedo de la mitad calida:7.6\n",
      "Precipitación del mes más seco del año:0\n",
      "Hay un regimen de lluvias de tipo s, con más lluvias en invierno\n"
     ]
    }
   ],
   "source": [
    "R_Lluvia()"
   ]
  },
  {
   "cell_type": "code",
   "execution_count": 69,
   "metadata": {
    "scrolled": true
   },
   "outputs": [
    {
     "name": "stdout",
     "output_type": "stream",
     "text": [
      "Volumen total de precipitación anual en cm: 2.89\n",
      "Temperatura media anual en ºC:22.95\n",
      "Es un clima Seco (B)\n"
     ]
    }
   ],
   "source": [
    "ClimaHS_w()"
   ]
  },
  {
   "cell_type": "markdown",
   "metadata": {},
   "source": [
    "Puesto que tenemos un clima seco con regimen de lluvias **s** usamos la función"
   ]
  },
  {
   "cell_type": "code",
   "execution_count": 70,
   "metadata": {},
   "outputs": [],
   "source": [
    "def Secos_s():\n",
    "    r= float(input('Volumen total de precipitación anual en cm: '))\n",
    "    t= float(input('Temperatura media anual en ºC:'))\n",
    "    if r<= t: \n",
    "        print ('Es un clima Seco desertico(BW)')\n",
    "    elif r>t:\n",
    "        print ('Es un clima Seco Estepario(BS)')"
   ]
  },
  {
   "cell_type": "code",
   "execution_count": 71,
   "metadata": {
    "scrolled": true
   },
   "outputs": [
    {
     "name": "stdout",
     "output_type": "stream",
     "text": [
      "Volumen total de precipitación anual en cm: 2.89\n",
      "Temperatura media anual en ºC:22.95\n",
      "Es un clima Seco desertico(BW)\n"
     ]
    }
   ],
   "source": [
    "Secos_s()"
   ]
  },
  {
   "cell_type": "markdown",
   "metadata": {},
   "source": [
    "Sabiendo esto, ahora necesitamos el regimen térmico del lugar por lo que usamos la función"
   ]
  },
  {
   "cell_type": "code",
   "execution_count": 73,
   "metadata": {},
   "outputs": [],
   "source": [
    "def RegT_secos():\n",
    "    T_A= float(input('Temperatura media anual en ºC:'))\n",
    "    T_MF= float(input('Temperatura media del mes más frio en ºC:'))\n",
    "    T_MC= float(input('Temperatura media del mes más calido en ºC:'))\n",
    "    \n",
    "    if T_A>=18 and T_MF>=18:\n",
    "        print(\"Es un clima seco muy calido (h')\")\n",
    "        \n",
    "    elif T_A>=18 and T_MF<18:\n",
    "        print('Es un clima seco calido (h)')\n",
    "        \n",
    "    elif T_A<18 and T_MC>18:\n",
    "        print('Es un clima seco frio (k)')\n",
    "        \n",
    "    elif T_A<18 and T_MC<18:\n",
    "        print(\"Es un clima seco muy frio (k')\")"
   ]
  },
  {
   "cell_type": "code",
   "execution_count": 74,
   "metadata": {
    "scrolled": true
   },
   "outputs": [
    {
     "name": "stdout",
     "output_type": "stream",
     "text": [
      "Temperatura media anual en ºC:22.95\n",
      "Temperatura media del mes más frio en ºC:15\n",
      "Temperatura media del mes más calido en ºC:36\n",
      "Es un clima seco calido (h)\n"
     ]
    }
   ],
   "source": [
    "RegT_secos()"
   ]
  },
  {
   "cell_type": "code",
   "execution_count": 75,
   "metadata": {
    "scrolled": true
   },
   "outputs": [
    {
     "name": "stdout",
     "output_type": "stream",
     "text": [
      "Temperatura media del mes más caliente(en °C): 36\n",
      "Temperatura media del mes más frio(en °C): 15\n",
      "No tenemos oscilación isotermal\n"
     ]
    }
   ],
   "source": [
    "Iso()"
   ]
  },
  {
   "cell_type": "markdown",
   "metadata": {},
   "source": [
    "De modo que el clima en la ciudad de Hermosillo, Sonora es Seco desertico calido con lluvias en invierno y sin osilación isotermal. En codigo tenemos **BWhs**."
   ]
  },
  {
   "cell_type": "markdown",
   "metadata": {},
   "source": [
    "## Ejemplo clima templado"
   ]
  },
  {
   "cell_type": "markdown",
   "metadata": {},
   "source": [
    "El siguiente proceso de clasificación climatica es de la ciudad de Morelia, Michoacan de Ocampo"
   ]
  },
  {
   "cell_type": "code",
   "execution_count": 36,
   "metadata": {},
   "outputs": [
    {
     "name": "stdout",
     "output_type": "stream",
     "text": [
      "Precipitación del mes más humedo de la mitad fria:63.7\n",
      "Precipitación del mes más humedo de la mitad calida:85.3\n",
      "Precipitación del mes más seco del año:38.5\n",
      "Hay un regimen de lluvias de tipo x', con lluvias durante todo el año\n"
     ]
    }
   ],
   "source": [
    "R_Lluvia()"
   ]
  },
  {
   "cell_type": "code",
   "execution_count": 38,
   "metadata": {},
   "outputs": [
    {
     "name": "stdout",
     "output_type": "stream",
     "text": [
      "Volumen total de precipitación anual en cm: 70.8\n",
      "Temperatura media anual en ºC:18.26\n",
      "Es un clima Humedo\n"
     ]
    }
   ],
   "source": [
    "ClimaHS_x()"
   ]
  },
  {
   "cell_type": "code",
   "execution_count": 40,
   "metadata": {},
   "outputs": [
    {
     "name": "stdout",
     "output_type": "stream",
     "text": [
      "Mes mas calido del año(en °C):21.55\n",
      "Mes mas frio del año(en °C):14.6\n",
      "El grupo de clima es: C, clima templado\n"
     ]
    }
   ],
   "source": [
    "Climas_H()"
   ]
  },
  {
   "cell_type": "code",
   "execution_count": 42,
   "metadata": {},
   "outputs": [
    {
     "name": "stdout",
     "output_type": "stream",
     "text": [
      "Temperatura media anual(en °C): 18.26\n",
      "Temperatura media del mes más frio(en °C): 14.6\n",
      "Temperatura media del mes más caliente(en °C): 21.55\n",
      "El grupo de clima es: C, clima templado\n",
      "Subgrupo: Semicálido del grupo C, símbolo C(A)\n"
     ]
    }
   ],
   "source": [
    "S_clima()"
   ]
  },
  {
   "cell_type": "code",
   "execution_count": 44,
   "metadata": {},
   "outputs": [
    {
     "name": "stdout",
     "output_type": "stream",
     "text": [
      "Temperatura media del mes más caliente(en °C): 21.55\n",
      "Temperatura media del mes más frio(en °C): 14.6\n",
      "No tenemos oscilación isotermal\n"
     ]
    }
   ],
   "source": [
    "Iso()"
   ]
  },
  {
   "cell_type": "markdown",
   "metadata": {},
   "source": [
    "Asi tenemos que en la ciudad de Morelia, Michoacan de Ocampo el clima es Templado del grupo semicalido humedo con lluvias durante todo el año y sin ocsilación isotermal. En codigo es **C(A)x'**"
   ]
  },
  {
   "cell_type": "markdown",
   "metadata": {},
   "source": [
    "## Ejemplo clima Frio\n"
   ]
  },
  {
   "cell_type": "markdown",
   "metadata": {},
   "source": [
    "El siguiente proceso es de la clasificación climática de la ciudad de San Juan Tetla Siete norte, Puebla. "
   ]
  },
  {
   "cell_type": "code",
   "execution_count": 56,
   "metadata": {
    "scrolled": true
   },
   "outputs": [
    {
     "name": "stdout",
     "output_type": "stream",
     "text": [
      "Precipitación del mes más humedo de la mitad fria:46.7\n",
      "Precipitación del mes más humedo de la mitad calida:87\n",
      "Precipitación del mes más seco del año:10.2\n",
      "Hay un regimen de lluvias de tipo x', con lluvias durante todo el año\n"
     ]
    }
   ],
   "source": [
    "R_Lluvia()"
   ]
  },
  {
   "cell_type": "code",
   "execution_count": 61,
   "metadata": {},
   "outputs": [
    {
     "name": "stdout",
     "output_type": "stream",
     "text": [
      "Volumen total de precipitación anual en cm: 51.21\n",
      "Temperatura media anual en ºC:4.3\n",
      "Es un clima Humedo\n"
     ]
    }
   ],
   "source": [
    "ClimaHS_x()"
   ]
  },
  {
   "cell_type": "code",
   "execution_count": 65,
   "metadata": {},
   "outputs": [
    {
     "name": "stdout",
     "output_type": "stream",
     "text": [
      "Mes mas calido del año(en °C):6.5\n",
      "Mes mas frio del año(en °C):-0.8\n",
      "El grupo de clima es: E, clima Frio o Polar\n"
     ]
    }
   ],
   "source": [
    "Climas_H()"
   ]
  },
  {
   "cell_type": "code",
   "execution_count": 66,
   "metadata": {
    "scrolled": true
   },
   "outputs": [
    {
     "name": "stdout",
     "output_type": "stream",
     "text": [
      "Temperatura media anual(en °C): 4.3\n",
      "Temperatura media del mes más frio(en °C): -0.8\n",
      "Temperatura media del mes más caliente(en °C): 6.5\n",
      "El grupo de clima es: E, clima clima Frio o Polar\n",
      "Subgrupo: Frío, se simboliza con E(T)\n"
     ]
    }
   ],
   "source": [
    "S_clima()"
   ]
  },
  {
   "cell_type": "code",
   "execution_count": 67,
   "metadata": {},
   "outputs": [
    {
     "name": "stdout",
     "output_type": "stream",
     "text": [
      "Temperatura media del mes más caliente(en °C): 6.5\n",
      "Temperatura media del mes más frio(en °C): -0.8\n",
      "No tenemos oscilación isotermal\n"
     ]
    }
   ],
   "source": [
    "Iso()"
   ]
  },
  {
   "cell_type": "markdown",
   "metadata": {},
   "source": [
    "Asi tenemos que el clima en San Juan Tetla Siete norte, Puebla es Frio humedo con lluvias durante todo el año y sin  oscilación isotermal. En codigo tenemos **E(T)x'**"
   ]
  }
 ],
 "metadata": {
  "kernelspec": {
   "display_name": "Python 3",
   "language": "python",
   "name": "python3"
  },
  "language_info": {
   "codemirror_mode": {
    "name": "ipython",
    "version": 3
   },
   "file_extension": ".py",
   "mimetype": "text/x-python",
   "name": "python",
   "nbconvert_exporter": "python",
   "pygments_lexer": "ipython3",
   "version": "3.8.3"
  }
 },
 "nbformat": 4,
 "nbformat_minor": 4
}
